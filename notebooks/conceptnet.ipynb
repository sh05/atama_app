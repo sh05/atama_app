{
 "cells": [
  {
   "cell_type": "code",
   "execution_count": 3,
   "metadata": {
    "colab": {
     "base_uri": "https://localhost:8080/"
    },
    "id": "EOtQjfudlbkI",
    "outputId": "65a50af8-441e-49c2-9f37-94a22d79e3db"
   },
   "outputs": [],
   "source": [
    "#!wget https://s3.amazonaws.com/conceptnet/downloads/2019/edges/conceptnet-assertions-5.7.0.csv.gz ."
   ]
  },
  {
   "cell_type": "code",
   "execution_count": 6,
   "metadata": {
    "id": "7cxRx_TUzLhG"
   },
   "outputs": [],
   "source": [
    "DIR = \"./\"\n",
    "FILE = \"conceptnet-assertions-5.7.0.csv.gz\"\n",
    "import gzip"
   ]
  },
  {
   "cell_type": "code",
   "execution_count": 7,
   "metadata": {
    "id": "L-TGrhg5yyBZ"
   },
   "outputs": [
    {
     "name": "stdout",
     "output_type": "stream",
     "text": [
      "34074918\n",
      "CPU times: user 1min 38s, sys: 8.34 s, total: 1min 46s\n",
      "Wall time: 2min 51s\n"
     ]
    }
   ],
   "source": [
    "%%time\n",
    "i = 1\n",
    "with gzip.open(DIR + FILE, mode='rt') as fp:\n",
    "    _ = fp.readline()\n",
    "    while _:\n",
    "        _ = fp.readline()\n",
    "        i += 1\n",
    "print(i)"
   ]
  },
  {
   "cell_type": "code",
   "execution_count": null,
   "metadata": {
    "id": "L-TGrhg5yyBZ"
   },
   "outputs": [],
   "source": [
    "%%time\n",
    "\n",
    "def load_cn(n):\n",
    "    if n <= 0:\n",
    "        return\n",
    "    data = []\n",
    "    with gzip.open(DIR + FILE, mode='rt') as fp:\n",
    "        data.append(fp.readline())\n",
    "        for i in range(n -1):\n",
    "            data.append(fp.readline())\n",
    "    return data"
   ]
  },
  {
   "cell_type": "code",
   "execution_count": 8,
   "metadata": {
    "colab": {
     "base_uri": "https://localhost:8080/"
    },
    "id": "79O2wBZt33g0",
    "outputId": "df82852c-4880-4e73-abcb-f2b55040086c"
   },
   "outputs": [
    {
     "ename": "SyntaxError",
     "evalue": "invalid syntax (<unknown>, line 8)",
     "output_type": "error",
     "traceback": [
      "Traceback \u001b[0;36m(most recent call last)\u001b[0m:\n",
      "  File \u001b[1;32m\"/usr/local/lib/python3.7/site-packages/IPython/core/interactiveshell.py\"\u001b[0m, line \u001b[1;32m3417\u001b[0m, in \u001b[1;35mrun_code\u001b[0m\n    exec(code_obj, self.user_global_ns, self.user_ns)\n",
      "  File \u001b[1;32m\"<ipython-input-8-d85e4e51758c>\"\u001b[0m, line \u001b[1;32m1\u001b[0m, in \u001b[1;35m<module>\u001b[0m\n    get_ipython().run_cell_magic('time', '', 'import gzip\\n\\ndef cn2neo4j():\\n    data = []\\n    i = 0\\n    with gzip.open(DIR + FILE, mode=\\'rt\\') as fp:\\n        line = fp.readline()\\n        while line and:\\n            uri, rel, c1, c2, info = line.split(\"\\\\t\") \\n            info[\"rel\"] = rel\\n            info[\"start\"] = c1\\n            info[\"end\"] = c2\\n            data.append(info)\\n            i += 1\\n            if i % 1000 == 0:\\n                data = []\\n            line = fp.readline()\\n    return data\\n')\n",
      "  File \u001b[1;32m\"/usr/local/lib/python3.7/site-packages/IPython/core/interactiveshell.py\"\u001b[0m, line \u001b[1;32m2381\u001b[0m, in \u001b[1;35mrun_cell_magic\u001b[0m\n    result = fn(*args, **kwargs)\n",
      "  File \u001b[1;32m\"<decorator-gen-61>\"\u001b[0m, line \u001b[1;32m2\u001b[0m, in \u001b[1;35mtime\u001b[0m\n",
      "  File \u001b[1;32m\"/usr/local/lib/python3.7/site-packages/IPython/core/magic.py\"\u001b[0m, line \u001b[1;32m187\u001b[0m, in \u001b[1;35m<lambda>\u001b[0m\n    call = lambda f, *a, **k: f(*a, **k)\n",
      "  File \u001b[1;32m\"/usr/local/lib/python3.7/site-packages/IPython/core/magics/execution.py\"\u001b[0m, line \u001b[1;32m1277\u001b[0m, in \u001b[1;35mtime\u001b[0m\n    expr_ast = self.shell.compile.ast_parse(expr)\n",
      "\u001b[0;36m  File \u001b[0;32m\"/usr/local/lib/python3.7/site-packages/IPython/core/compilerop.py\"\u001b[0;36m, line \u001b[0;32m101\u001b[0;36m, in \u001b[0;35mast_parse\u001b[0;36m\u001b[0m\n\u001b[0;31m    return compile(source, filename, symbol, self.flags | PyCF_ONLY_AST, 1)\u001b[0m\n",
      "\u001b[0;36m  File \u001b[0;32m\"<unknown>\"\u001b[0;36m, line \u001b[0;32m8\u001b[0m\n\u001b[0;31m    while line and:\u001b[0m\n\u001b[0m                  ^\u001b[0m\n\u001b[0;31mSyntaxError\u001b[0m\u001b[0;31m:\u001b[0m invalid syntax\n"
     ]
    }
   ],
   "source": [
    "%%time\n",
    "import gzip\n",
    "\n",
    "def cn2neo4j():\n",
    "    data = []\n",
    "    i = 0\n",
    "    with gzip.open(DIR + FILE, mode='rt') as fp:\n",
    "        line = fp.readline()\n",
    "        while line and:\n",
    "            uri, rel, c1, c2, info = line.split(\"\\t\") \n",
    "            info[\"rel\"] = rel\n",
    "            info[\"start\"] = c1\n",
    "            info[\"end\"] = c2\n",
    "            data.append(info)\n",
    "            i += 1\n",
    "            if i % 1000 == 0:\n",
    "                data = []\n",
    "            line = fp.readline()\n",
    "    return data"
   ]
  },
  {
   "cell_type": "code",
   "execution_count": null,
   "metadata": {
    "colab": {
     "base_uri": "https://localhost:8080/"
    },
    "id": "e34LTICtyWXi",
    "outputId": "07607067-1453-4930-e849-7abe8e965e69"
   },
   "outputs": [
    {
     "name": "stdout",
     "output_type": "stream",
     "text": [
      "34074917\n",
      "8\n",
      "CPU times: user 1min 4s, sys: 324 ms, total: 1min 4s\n",
      "Wall time: 1min 5s\n"
     ]
    }
   ],
   "source": [
    "%%time\n",
    "import gzip\n",
    "\n",
    "i = 0\n",
    "with gzip.open(DIR + FILE, mode='rt') as fp:\n",
    "    line = fp.readline()\n",
    "    while line:\n",
    "        line = fp.readline()\n",
    "        i += 1\n",
    "\n",
    "print(i)\n",
    "print(len(str(i)))"
   ]
  }
 ],
 "metadata": {
  "colab": {
   "name": "conceptnet.ipynb",
   "provenance": []
  },
  "kernelspec": {
   "display_name": "Python 3",
   "language": "python",
   "name": "python3"
  },
  "language_info": {
   "codemirror_mode": {
    "name": "ipython",
    "version": 3
   },
   "file_extension": ".py",
   "mimetype": "text/x-python",
   "name": "python",
   "nbconvert_exporter": "python",
   "pygments_lexer": "ipython3",
   "version": "3.7.8"
  }
 },
 "nbformat": 4,
 "nbformat_minor": 4
}
